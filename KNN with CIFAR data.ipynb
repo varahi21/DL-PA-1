{
 "cells": [
  {
   "cell_type": "code",
   "execution_count": 1,
   "metadata": {},
   "outputs": [],
   "source": [
    "import torch\n",
    "import numpy as np"
   ]
  },
  {
   "cell_type": "code",
   "execution_count": 2,
   "metadata": {},
   "outputs": [],
   "source": [
    "#loading cifar 10 dataset\n",
    "(x_train, y_train, x_test, y_test)=torch.load('cifar10.pt')"
   ]
  },
  {
   "cell_type": "code",
   "execution_count": 3,
   "metadata": {},
   "outputs": [
    {
     "data": {
      "text/plain": [
       "torch.Size([32, 32, 3])"
      ]
     },
     "execution_count": 3,
     "metadata": {},
     "output_type": "execute_result"
    }
   ],
   "source": [
    "x_train[0].size()"
   ]
  },
  {
   "cell_type": "code",
   "execution_count": 19,
   "metadata": {},
   "outputs": [],
   "source": [
    "#making 32*32*3 image to 1*3072 dimension feature vector\n",
    "x_train1 = []\n",
    "for i in x_train:\n",
    "    x_train1.append(i.view(1,-1)[0])\n",
    "x_test1 = []\n",
    "\n",
    "for i in x_test:\n",
    "    x_test1.append(i.view(1,-1)[0])"
   ]
  },
  {
   "cell_type": "code",
   "execution_count": 20,
   "metadata": {},
   "outputs": [],
   "source": [
    "#converting 3072 dimension vector to 765 dimension tensor by frequencies of hisograms of R,G,B planes\n",
    "train_data = []\n",
    "for i in X_train:\n",
    "    lis = []\n",
    "    lis = lis +  list(np.histogram(i[0:1024],[j for j in range(256)])[0])\n",
    "    lis = lis + list(np.histogram(i[1024:2048],[j for j in range(256)])[0])\n",
    "    lis = lis + list(np.histogram(i[2048:3072],[j for j in range(256)])[0])\n",
    "    train_data.append(torch.tensor(lis))\n",
    "    \n",
    "test_data = []\n",
    "\n",
    "for i in X_test:\n",
    "    lis = []\n",
    "    lis = lis +  list(np.histogram(i[0:1024],[j for j in range(256)])[0])\n",
    "    lis = lis + list(np.histogram(i[1024:2048],[j for j in range(256)])[0])\n",
    "    lis = lis + list(np.histogram(i[2048:3072],[j for j in range(256)])[0])\n",
    "    test_data.append(torch.tensor(lis))"
   ]
  },
  {
   "cell_type": "code",
   "execution_count": 31,
   "metadata": {},
   "outputs": [
    {
     "name": "stdout",
     "output_type": "stream",
     "text": [
      "765\n"
     ]
    }
   ],
   "source": [
    "print(len(train_data[0]))"
   ]
  },
  {
   "cell_type": "code",
   "execution_count": 21,
   "metadata": {},
   "outputs": [],
   "source": [
    "train_labels = list(y_train.numpy().flatten())\n",
    "test_labels = list(y_test.numpy().flatten())"
   ]
  },
  {
   "cell_type": "code",
   "execution_count": 55,
   "metadata": {},
   "outputs": [
    {
     "name": "stdout",
     "output_type": "stream",
     "text": [
      "enter the value of k5\n"
     ]
    }
   ],
   "source": [
    "# taking value of k from user\n",
    "k = input(\"enter the value of k\")"
   ]
  },
  {
   "cell_type": "code",
   "execution_count": 56,
   "metadata": {},
   "outputs": [],
   "source": [
    "# now we find the distance between 2 tensors\n",
    "def euclideanDistance(sample1,sample2):\n",
    "    return distance.euclidean(sample1.numpy(),sample2.numpy())"
   ]
  },
  {
   "cell_type": "code",
   "execution_count": 57,
   "metadata": {},
   "outputs": [],
   "source": [
    "import matplotlib.pyplot as plt\n",
    "from scipy.spatial import distance\n",
    "import functools\n",
    "import operator"
   ]
  },
  {
   "cell_type": "code",
   "execution_count": 58,
   "metadata": {},
   "outputs": [],
   "source": [
    "# comparator which will be  useful for sorting neighbors \n",
    "def mycmp(i1,i2):\n",
    "    if i1[1]<i2[1]:\n",
    "        return -1\n",
    "    elif i1[1]>i2[1]:\n",
    "        return 1\n",
    "    else:\n",
    "        if i1[3]<i2[3]: # equal values are sorted based on the value of index\n",
    "            return -1\n",
    "        else:\n",
    "            return 1\n",
    "        "
   ]
  },
  {
   "cell_type": "code",
   "execution_count": 59,
   "metadata": {},
   "outputs": [],
   "source": [
    "# find the k nearest neighbors in the form of tuples where each tuple is of the form (data point, distance,label,index)\n",
    "\n",
    "def neighbors(training_set,test_sample,k,training_labels):\n",
    "    distances = []\n",
    "    \n",
    "    for i in range(len(training_set)):\n",
    "        dist = euclideanDistance(training_set[i],test_sample)\n",
    "        distances.append((training_set[i],dist,training_labels[i],i))\n",
    "\n",
    "    distances = sorted(distances,key=functools.cmp_to_key(mycmp))\n",
    "    neighbors_list = []\n",
    "    for i in range(k):\n",
    "        neighbors_list.append(distances[i])\n",
    "        \n",
    "    return neighbors_list\n",
    "    "
   ]
  },
  {
   "cell_type": "code",
   "execution_count": 60,
   "metadata": {},
   "outputs": [],
   "source": [
    "\n",
    "#predicting labels for each test instance\n",
    "predictions = []\n",
    "for i in range(len(x_test)):\n",
    "    neighbors_list = neighbors(x_train1,x_test1[i],int(k),y_train) #returns neighbour list for a particular test sample\n",
    "    labels=np.zeros(10) #list of 10 zeros indicating votes\n",
    "    for i in range(int(k)):\n",
    "        resp = neighbors_list[i][2] #label of each element in neighbours list\n",
    "        labels[resp]+=1\n",
    "    labels_sorted=sorted(labels,reverse=True) #sorts labels in descending order\n",
    "    for i in range(len(labels)):\n",
    "        if(labels[i]==labels_sorted[0]): #finds class having maximum votes\n",
    "            predictions.append(i)\n",
    "            break"
   ]
  },
  {
   "cell_type": "code",
   "execution_count": 61,
   "metadata": {},
   "outputs": [
    {
     "name": "stdout",
     "output_type": "stream",
     "text": [
      "[0, 0, 8, 0, 2, 2, 2, 4, 0, 1, 0, 8, 0, 4, 0, 0, 2, 8, 4, 0, 0, 1, 0, 2, 2, 8, 2, 4, 0, 2, 2, 0, 0, 2, 8, 0, 0, 4, 0, 2, 0, 4, 0, 4, 2, 0, 0, 0, 6, 2, 0, 8, 3, 3, 8, 8, 7, 0, 0, 2, 0, 2, 4, 4, 0, 5, 0, 2, 8, 5, 0, 5, 0, 8, 4, 2, 0, 9, 2, 6, 1, 0, 2, 2, 0, 0, 0, 4, 4, 0, 0, 2, 4, 8, 0, 0, 0, 0, 6, 5]\n"
     ]
    }
   ],
   "source": [
    "print(predictions)"
   ]
  },
  {
   "cell_type": "code",
   "execution_count": 62,
   "metadata": {},
   "outputs": [
    {
     "name": "stdout",
     "output_type": "stream",
     "text": [
      "14.000000000000002\n"
     ]
    }
   ],
   "source": [
    "#finding accuracy of predictions based on original labels\n",
    "from sklearn.metrics import accuracy_score\n",
    "print(accuracy_score(list(y_test.numpy()),predictions)*100)"
   ]
  },
  {
   "cell_type": "code",
   "execution_count": 63,
   "metadata": {},
   "outputs": [
    {
     "name": "stdout",
     "output_type": "stream",
     "text": [
      "[[4 1 1 1 2 0 1 0 0 0]\n",
      " [2 1 2 0 1 0 0 0 0 0]\n",
      " [4 0 2 0 0 1 0 0 1 0]\n",
      " [3 0 3 1 1 0 0 0 1 1]\n",
      " [6 0 1 0 0 0 0 0 0 0]\n",
      " [4 0 4 0 0 0 0 0 0 0]\n",
      " [4 0 6 0 4 1 0 0 1 0]\n",
      " [3 0 1 0 2 2 1 1 1 0]\n",
      " [3 1 0 0 3 0 1 0 5 0]\n",
      " [8 0 1 0 0 0 0 0 2 0]]\n"
     ]
    }
   ],
   "source": [
    "\n",
    "y_true=list(y_test.numpy())\n",
    "y_pred=predictions\n",
    "from sklearn.metrics import confusion_matrix\n",
    "cm = confusion_matrix(y_true, y_pred)\n",
    "print(cm)"
   ]
  },
  {
   "cell_type": "code",
   "execution_count": null,
   "metadata": {},
   "outputs": [],
   "source": []
  },
  {
   "cell_type": "code",
   "execution_count": null,
   "metadata": {},
   "outputs": [],
   "source": []
  }
 ],
 "metadata": {
  "kernelspec": {
   "display_name": "Python 3",
   "language": "python",
   "name": "python3"
  },
  "language_info": {
   "codemirror_mode": {
    "name": "ipython",
    "version": 3
   },
   "file_extension": ".py",
   "mimetype": "text/x-python",
   "name": "python",
   "nbconvert_exporter": "python",
   "pygments_lexer": "ipython3",
   "version": "3.7.3"
  }
 },
 "nbformat": 4,
 "nbformat_minor": 2
}
