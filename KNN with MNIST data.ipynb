{
 "cells": [
  {
   "cell_type": "code",
   "execution_count": 124,
   "metadata": {},
   "outputs": [],
   "source": [
    "import torch\n",
    "import numpy as np"
   ]
  },
  {
   "cell_type": "code",
   "execution_count": 125,
   "metadata": {},
   "outputs": [],
   "source": [
    "#load the mnist data     x denotes the samples while y denotes the labels\n",
    "(x_train, y_train, x_test, y_test)=torch.load('mnist.pt')"
   ]
  },
  {
   "cell_type": "code",
   "execution_count": 126,
   "metadata": {},
   "outputs": [],
   "source": [
    "# convert the image(28*28 dimensions) to 1*784 dimension vector\n",
    "x_train1 = []\n",
    "for data_point in x_train:\n",
    "    x_train1.append(data_point.view(1,-1)[0])\n",
    "    \n",
    "x_test1 = []\n",
    "\n",
    "for data_point in x_test:\n",
    "    x_test1.append(data_point.view(1,-1)[0])"
   ]
  },
  {
   "cell_type": "code",
   "execution_count": 172,
   "metadata": {},
   "outputs": [
    {
     "name": "stdout",
     "output_type": "stream",
     "text": [
      "torch.Size([1000, 28, 28])\n",
      "torch.Size([100, 28, 28])\n",
      "1000\n",
      "100\n"
     ]
    }
   ],
   "source": [
    "print((x_train).shape)\n",
    "print((x_test).shape)\n",
    "print(len(x_train1))\n",
    "print(len(x_test))"
   ]
  },
  {
   "cell_type": "code",
   "execution_count": 173,
   "metadata": {},
   "outputs": [
    {
     "name": "stdout",
     "output_type": "stream",
     "text": [
      "784\n"
     ]
    }
   ],
   "source": [
    "print(len(x_train1[0]))"
   ]
  },
  {
   "cell_type": "code",
   "execution_count": 174,
   "metadata": {},
   "outputs": [
    {
     "data": {
      "text/plain": [
       "torch.Size([1000, 28, 28])"
      ]
     },
     "execution_count": 174,
     "metadata": {},
     "output_type": "execute_result"
    }
   ],
   "source": [
    "x_train.shape"
   ]
  },
  {
   "cell_type": "code",
   "execution_count": 130,
   "metadata": {},
   "outputs": [
    {
     "data": {
      "text/plain": [
       "tensor([  0,   0,   0,   0,   0,   0,   0,   0,   0,   0,   0,   0,   0,   0,\n",
       "          0,   0,   0,   0,   0,   0,   0,   0,   0,   0,   0,   0,   0,   0,\n",
       "          0,   0,   0,   0,   0,   0,   0,   0,   0,   0,   0,   0,   0,   0,\n",
       "          0,   0,   0,   0,   0,   0,   0,   0,   0,   0,   0,   0,   0,   0,\n",
       "          0,   0,   0,   0,   0,   0,   0,   0,   0,   0,   0,   0,   0,   0,\n",
       "          0,   0,   0,   0,   0,   0,   0,   0,   0,   0,   0,   0,   0,   0,\n",
       "          0,   0,   0,   0,   0,   0,   0,   0,   0,   0,   0,   0,   0,   0,\n",
       "          0,   0,   0,   0,   0,   0,   0,   0,   0,   0,   0,   0,   0,   0,\n",
       "          0,   0,   0,   0,   0,   0,   0,   0,   0,   0,   0,   0,   0,   0,\n",
       "          0,   0,   0,   0,   0,   0,   0,   0,   0,   0,   0,   0,   0,   0,\n",
       "          0,   0,   0,   0,   0,   0,   0,   0,   0,   0,   0,   0,   3,  18,\n",
       "         18,  18, 126, 136, 175,  26, 166, 255, 247, 127,   0,   0,   0,   0,\n",
       "          0,   0,   0,   0,   0,   0,   0,   0,  30,  36,  94, 154, 170, 253,\n",
       "        253, 253, 253, 253, 225, 172, 253, 242, 195,  64,   0,   0,   0,   0,\n",
       "          0,   0,   0,   0,   0,   0,   0,  49, 238, 253, 253, 253, 253, 253,\n",
       "        253, 253, 253, 251,  93,  82,  82,  56,  39,   0,   0,   0,   0,   0,\n",
       "          0,   0,   0,   0,   0,   0,   0,  18, 219, 253, 253, 253, 253, 253,\n",
       "        198, 182, 247, 241,   0,   0,   0,   0,   0,   0,   0,   0,   0,   0,\n",
       "          0,   0,   0,   0,   0,   0,   0,   0,  80, 156, 107, 253, 253, 205,\n",
       "         11,   0,  43, 154,   0,   0,   0,   0,   0,   0,   0,   0,   0,   0,\n",
       "          0,   0,   0,   0,   0,   0,   0,   0,   0,  14,   1, 154, 253,  90,\n",
       "          0,   0,   0,   0,   0,   0,   0,   0,   0,   0,   0,   0,   0,   0,\n",
       "          0,   0,   0,   0,   0,   0,   0,   0,   0,   0,   0, 139, 253, 190,\n",
       "          2,   0,   0,   0,   0,   0,   0,   0,   0,   0,   0,   0,   0,   0,\n",
       "          0,   0,   0,   0,   0,   0,   0,   0,   0,   0,   0,  11, 190, 253,\n",
       "         70,   0,   0,   0,   0,   0,   0,   0,   0,   0,   0,   0,   0,   0,\n",
       "          0,   0,   0,   0,   0,   0,   0,   0,   0,   0,   0,   0,  35, 241,\n",
       "        225, 160, 108,   1,   0,   0,   0,   0,   0,   0,   0,   0,   0,   0,\n",
       "          0,   0,   0,   0,   0,   0,   0,   0,   0,   0,   0,   0,   0,  81,\n",
       "        240, 253, 253, 119,  25,   0,   0,   0,   0,   0,   0,   0,   0,   0,\n",
       "          0,   0,   0,   0,   0,   0,   0,   0,   0,   0,   0,   0,   0,   0,\n",
       "         45, 186, 253, 253, 150,  27,   0,   0,   0,   0,   0,   0,   0,   0,\n",
       "          0,   0,   0,   0,   0,   0,   0,   0,   0,   0,   0,   0,   0,   0,\n",
       "          0,  16,  93, 252, 253, 187,   0,   0,   0,   0,   0,   0,   0,   0,\n",
       "          0,   0,   0,   0,   0,   0,   0,   0,   0,   0,   0,   0,   0,   0,\n",
       "          0,   0,   0, 249, 253, 249,  64,   0,   0,   0,   0,   0,   0,   0,\n",
       "          0,   0,   0,   0,   0,   0,   0,   0,   0,   0,   0,   0,   0,   0,\n",
       "         46, 130, 183, 253, 253, 207,   2,   0,   0,   0,   0,   0,   0,   0,\n",
       "          0,   0,   0,   0,   0,   0,   0,   0,   0,   0,   0,   0,  39, 148,\n",
       "        229, 253, 253, 253, 250, 182,   0,   0,   0,   0,   0,   0,   0,   0,\n",
       "          0,   0,   0,   0,   0,   0,   0,   0,   0,   0,  24, 114, 221, 253,\n",
       "        253, 253, 253, 201,  78,   0,   0,   0,   0,   0,   0,   0,   0,   0,\n",
       "          0,   0,   0,   0,   0,   0,   0,   0,  23,  66, 213, 253, 253, 253,\n",
       "        253, 198,  81,   2,   0,   0,   0,   0,   0,   0,   0,   0,   0,   0,\n",
       "          0,   0,   0,   0,   0,   0,  18, 171, 219, 253, 253, 253, 253, 195,\n",
       "         80,   9,   0,   0,   0,   0,   0,   0,   0,   0,   0,   0,   0,   0,\n",
       "          0,   0,   0,   0,  55, 172, 226, 253, 253, 253, 253, 244, 133,  11,\n",
       "          0,   0,   0,   0,   0,   0,   0,   0,   0,   0,   0,   0,   0,   0,\n",
       "          0,   0,   0,   0, 136, 253, 253, 253, 212, 135, 132,  16,   0,   0,\n",
       "          0,   0,   0,   0,   0,   0,   0,   0,   0,   0,   0,   0,   0,   0,\n",
       "          0,   0,   0,   0,   0,   0,   0,   0,   0,   0,   0,   0,   0,   0,\n",
       "          0,   0,   0,   0,   0,   0,   0,   0,   0,   0,   0,   0,   0,   0,\n",
       "          0,   0,   0,   0,   0,   0,   0,   0,   0,   0,   0,   0,   0,   0,\n",
       "          0,   0,   0,   0,   0,   0,   0,   0,   0,   0,   0,   0,   0,   0,\n",
       "          0,   0,   0,   0,   0,   0,   0,   0,   0,   0,   0,   0,   0,   0,\n",
       "          0,   0,   0,   0,   0,   0,   0,   0,   0,   0,   0,   0,   0,   0],\n",
       "       dtype=torch.uint8)"
      ]
     },
     "execution_count": 130,
     "metadata": {},
     "output_type": "execute_result"
    }
   ],
   "source": [
    "# x_train1 consists of 1000 vectors with dimensions 1*784 \n",
    "# x_test1 consists of 100 vectors with dimensions 1*784 \n",
    "x_train1[0] "
   ]
  },
  {
   "cell_type": "code",
   "execution_count": 131,
   "metadata": {},
   "outputs": [],
   "source": [
    "# now we find the distance between 2 temsors\n",
    "def euclideanDistance(sample1,sample2):\n",
    "    return distance.euclidean(sample1.numpy(),sample2.numpy())"
   ]
  },
  {
   "cell_type": "code",
   "execution_count": 132,
   "metadata": {},
   "outputs": [],
   "source": [
    "import matplotlib.pyplot as plt\n",
    "from scipy.spatial import distance\n",
    "import functools\n",
    "import operator"
   ]
  },
  {
   "cell_type": "code",
   "execution_count": 133,
   "metadata": {},
   "outputs": [],
   "source": [
    "# comparator which will be  useful for sorting neighbors \n",
    "def mycmp(i1,i2):\n",
    "    if i1[1]<i2[1]:\n",
    "        return -1\n",
    "    elif i1[1]>i2[1]: \n",
    "        return 1\n",
    "    else:\n",
    "        if i1[3]<i2[3]:  # if both values are equal it sorts with respect to index\n",
    "            return -1\n",
    "        else:\n",
    "            return 1\n",
    "        "
   ]
  },
  {
   "cell_type": "code",
   "execution_count": 134,
   "metadata": {},
   "outputs": [],
   "source": [
    "# find the k nearest neighbors in the form of tuples where each tuple is of the form (data point, distance,label,index)\n",
    "\n",
    "def neighbors(training_set,test_sample,k,training_labels):\n",
    "    distances = []\n",
    "    \n",
    "    for i in range(len(training_set)):\n",
    "        dist = euclideanDistance(training_set[i],test_sample)\n",
    "        distances.append((training_set[i],dist,training_labels[i],i))\n",
    "\n",
    "    distances = sorted(distances,key=functools.cmp_to_key(mycmp))\n",
    "    neighbors_list = []\n",
    "    for i in range(k):\n",
    "        neighbors_list.append(distances[i])\n",
    "        \n",
    "    return neighbors_list\n",
    "    "
   ]
  },
  {
   "cell_type": "code",
   "execution_count": 176,
   "metadata": {},
   "outputs": [
    {
     "name": "stdout",
     "output_type": "stream",
     "text": [
      "Enter the Value of K:1\n"
     ]
    }
   ],
   "source": [
    "k = input(\"Enter the Value of K:\")"
   ]
  },
  {
   "cell_type": "code",
   "execution_count": 177,
   "metadata": {},
   "outputs": [],
   "source": [
    "\n",
    "#predicting labels for each test instance\n",
    "predictions = []\n",
    "for i in range(len(x_test1)):\n",
    "    neighbors_list = neighbors(x_train1,x_test1[i],int(k),y_train) #returns neighbour list for a particular test sample\n",
    "    labels=np.zeros(10) #list of 10 zeros indicating votes\n",
    "    for i in range(int(k)):\n",
    "        resp = neighbors_list[i][2] #label of each element in neighbours list\n",
    "        labels[resp]+=1\n",
    "    labels_sorted=sorted(labels,reverse=True) #sorts labels in descending order\n",
    "    for i in range(len(labels)):\n",
    "        if(labels[i]==labels_sorted[0]): #finds class having maximum votes\n",
    "            predictions.append(i)\n",
    "            break"
   ]
  },
  {
   "cell_type": "code",
   "execution_count": 178,
   "metadata": {},
   "outputs": [
    {
     "name": "stdout",
     "output_type": "stream",
     "text": [
      "[7, 1, 1, 1, 4, 1, 1, 1, 1, 7, 1, 8, 4, 1, 1, 1, 4, 7, 1, 4, 1, 6, 1, 6, 4, 1, 7, 4, 0, 1, 1, 1, 1, 4, 7, 7, 7, 1, 1, 1, 1, 7, 1, 1, 1, 1, 1, 2, 1, 4, 6, 1, 4, 5, 8, 0, 5, 1, 7, 1, 1, 1, 9, 1, 7, 4, 1, 4, 1, 1, 7, 1, 8, 1, 1, 1, 1, 7, 1, 7, 9, 1, 2, 7, 1, 1, 7, 1, 1, 1, 1, 4, 9, 1, 1, 1, 1, 1, 6, 1]\n"
     ]
    }
   ],
   "source": [
    "#list of predictions\n",
    "print(predictions)"
   ]
  },
  {
   "cell_type": "code",
   "execution_count": 179,
   "metadata": {},
   "outputs": [
    {
     "name": "stdout",
     "output_type": "stream",
     "text": [
      "[7, 2, 1, 0, 4, 1, 4, 9, 5, 9, 0, 6, 9, 0, 1, 5, 9, 7, 3, 4, 9, 6, 6, 5, 4, 0, 7, 4, 0, 1, 3, 1, 3, 4, 7, 2, 7, 1, 2, 1, 1, 7, 4, 2, 3, 5, 1, 2, 4, 4, 6, 3, 5, 5, 6, 0, 4, 1, 9, 5, 7, 8, 9, 3, 7, 4, 6, 4, 3, 0, 7, 0, 2, 9, 1, 7, 3, 2, 9, 7, 7, 6, 2, 7, 8, 4, 7, 3, 6, 1, 3, 6, 9, 3, 1, 4, 1, 7, 6, 9]\n"
     ]
    }
   ],
   "source": [
    "#list of original labels\n",
    "print(list(y_test.numpy()))"
   ]
  },
  {
   "cell_type": "code",
   "execution_count": 180,
   "metadata": {},
   "outputs": [
    {
     "name": "stdout",
     "output_type": "stream",
     "text": [
      "43.0\n"
     ]
    }
   ],
   "source": [
    "#finding accuracy of predictions based on original labels\n",
    "from sklearn.metrics import accuracy_score\n",
    "print(accuracy_score(list(y_test.numpy()),predictions)*100)"
   ]
  },
  {
   "cell_type": "code",
   "execution_count": 171,
   "metadata": {},
   "outputs": [
    {
     "name": "stdout",
     "output_type": "stream",
     "text": [
      "[[ 2  6  0  0  0  0  0  0  0  0]\n",
      " [ 0 14  0  0  0  0  0  0  0  0]\n",
      " [ 0  3  2  0  0  0  0  2  1  0]\n",
      " [ 0 11  0  0  0  0  0  0  0  0]\n",
      " [ 0  5  0  0  8  1  0  0  0  0]\n",
      " [ 0  4  0  0  1  1  1  0  0  0]\n",
      " [ 0  4  0  0  1  0  3  0  2  0]\n",
      " [ 0  3  0  0  0  0  0 11  0  1]\n",
      " [ 0  2  0  0  0  0  0  0  0  0]\n",
      " [ 0  5  0  0  2  0  0  2  0  2]]\n"
     ]
    }
   ],
   "source": [
    "\n",
    "y_true=list(y_test.numpy())\n",
    "y_pred=predictions\n",
    "from sklearn.metrics import confusion_matrix\n",
    "cm = confusion_matrix(y_true, y_pred)\n",
    "print(cm)"
   ]
  }
 ],
 "metadata": {
  "kernelspec": {
   "display_name": "Python 3",
   "language": "python",
   "name": "python3"
  },
  "language_info": {
   "codemirror_mode": {
    "name": "ipython",
    "version": 3
   },
   "file_extension": ".py",
   "mimetype": "text/x-python",
   "name": "python",
   "nbconvert_exporter": "python",
   "pygments_lexer": "ipython3",
   "version": "3.7.3"
  }
 },
 "nbformat": 4,
 "nbformat_minor": 2
}
